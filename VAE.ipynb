{
 "cells": [
  {
   "cell_type": "markdown",
   "metadata": {},
   "source": [
    "<h1>Autoencoders"
   ]
  },
  {
   "cell_type": "markdown",
   "metadata": {},
   "source": [
    "<h2>Importing required libraries"
   ]
  },
  {
   "cell_type": "code",
   "execution_count": 1,
   "metadata": {},
   "outputs": [],
   "source": [
    "import torch\n",
    "import random\n",
    "import numpy as np\n",
    "import torch.nn as nn\n",
    "import tensorflow as tf\n",
    "import torch.optim as optim\n",
    "from torchvision import models\n",
    "import torch.nn.functional as F\n",
    "import matplotlib.pyplot as plt\n",
    "from torch.utils.data import DataLoader\n",
    "from keras.datasets import fashion_mnist\n",
    "from torch.optim.lr_scheduler import ExponentialLR"
   ]
  },
  {
   "cell_type": "markdown",
   "metadata": {},
   "source": [
    "<h2>Initializing device details and Importing the dataset"
   ]
  },
  {
   "cell_type": "code",
   "execution_count": 2,
   "metadata": {},
   "outputs": [],
   "source": [
    "device = torch.device(\"cuda:0\" if torch.cuda.is_available() else \"cpu\")\n",
    "torch.cuda.empty_cache()\n",
    "(xTrain, yTrain), (xTest, yTest) = fashion_mnist.load_data()"
   ]
  },
  {
   "cell_type": "markdown",
   "metadata": {},
   "source": [
    "<h2>Displaying sample images from dataset"
   ]
  },
  {
   "cell_type": "code",
   "execution_count": 3,
   "metadata": {},
   "outputs": [
    {
     "data": {
      "image/png": "[encoded data removed]",
      "text/plain": [
       "<Figure size 640x480 with 8 Axes>"
      ]
     },
     "metadata": {},
     "output_type": "display_data"
    }
   ],
   "source": [
    "def displayImages(imageList, rows, columns):\n",
    "    fig, grid = plt.subplots(rows,columns) \n",
    "    for i in range(rows):\n",
    "        for j in range(columns):\n",
    "            grid[i,j].axis('off')\n",
    "            grid[i,j].imshow(np.reshape(imageList[(i-1)*rows+j], (28,28)))\n",
    "\n",
    "numSamples = 8\n",
    "randomIndices = random.sample(range(0, len(xTrain)), numSamples)\n",
    "displayImages(list(np.array(xTrain)[randomIndices]), 2, 4)"
   ]
  },
  {
   "cell_type": "markdown",
   "metadata": {},
   "source": [
    "<h2>Dataset Preprocessing"
   ]
  },
  {
   "cell_type": "code",
   "execution_count": 4,
   "metadata": {},
   "outputs": [],
   "source": [
    "length, breadth = xTrain[0].shape\n",
    "flattenDim = length * breadth\n",
    "#xTrain = torch.FloatTensor(np.round(xTrain / 27).astype(int)).to(device)\n",
    "xTrain = np.round(xTrain / 27).astype(int)\n",
    "xTest = np.round(xTest / 27).astype(int)\n",
    "xTrainFlat = torch.FloatTensor(np.reshape(xTrain, (-1,flattenDim))).to(device)\n",
    "xTestFlat = np.reshape(xTest, (-1,flattenDim)) "
   ]
  },
  {
   "cell_type": "markdown",
   "metadata": {},
   "source": [
    "<h2>Initializing TrainLoader and TestLoader functions"
   ]
  },
  {
   "cell_type": "code",
   "execution_count": 5,
   "metadata": {},
   "outputs": [],
   "source": [
    "trainLoader = DataLoader(dataset = xTrainFlat, batch_size = 32, shuffle = True)\n",
    "testLoader = DataLoader(dataset = xTestFlat, batch_size = 16, shuffle = True)"
   ]
  },
  {
   "cell_type": "markdown",
   "metadata": {},
   "source": [
    "<h2>Defining Variational AutoEncoder class"
   ]
  },
  {
   "cell_type": "code",
   "execution_count": 6,
   "metadata": {},
   "outputs": [],
   "source": [
    "latentSize = 20\n",
    "\n",
    "class variationalAE(torch.nn.Module):\n",
    "    def __init__(self):\n",
    "        super().__init__()\n",
    "        self.encoder = torch.nn.Sequential(\n",
    "            torch.nn.Linear(784, 400),\n",
    "            torch.nn.ReLU(),\n",
    "            torch.nn.Linear(400, 40)\n",
    "        )\n",
    "        self.decoder = torch.nn.Sequential(\n",
    "            torch.nn.Linear(20, 40),\n",
    "            torch.nn.ReLU(),\n",
    "            torch.nn.Linear(40, 400),\n",
    "            torch.nn.ReLU(),\n",
    "            torch.nn.Linear(400, 784)\n",
    "        )\n",
    "    def reparameterization(self, mean, logVariance):\n",
    "        standardDeviation = torch.exp(0.5 * logVariance)\n",
    "        epsilonValue = torch.randn_like(standardDeviation)\n",
    "        chosenSample = mean + (epsilonValue * standardDeviation)\n",
    "        return chosenSample\n",
    "\n",
    "    def forward(self, x):\n",
    "        encoded = self.encoder(x)\n",
    "        mean, logVariance = torch.split(encoded, 20, dim = 2)\n",
    "        z = self.reparameterization(mean, logVariance)\n",
    "        reconstructed = self.decoder(z)\n",
    "        return mean, logVariance, reconstructed"
   ]
  },
  {
   "cell_type": "markdown",
   "metadata": {},
   "source": [
    "<h2>Defining the ELBO loss function"
   ]
  },
  {
   "cell_type": "code",
   "execution_count": 7,
   "metadata": {},
   "outputs": [],
   "source": [
    "def lossFunction(L2loss, Mean, logVariance):\n",
    "    MSELoss = L2loss\n",
    "    klDivergence = torch.mean(-0.5*torch.sum(1 + logVariance - Mean.pow(2) - logVariance.exp(),dim=1))\n",
    "    totalLoss = MSELoss + klDivergence\n",
    "    return totalLoss"
   ]
  },
  {
   "cell_type": "markdown",
   "metadata": {},
   "source": [
    "<h2>Training the AutoEncoder model"
   ]
  },
  {
   "cell_type": "code",
   "execution_count": 8,
   "metadata": {},
   "outputs": [
    {
     "name": "stdout",
     "output_type": "stream",
     "text": [
      "Reconstruction Loss:  tensor(6.0501, device='cuda:0', grad_fn=<MseLossBackward0>)\n",
      "Epoch:  0 | Average loss:  8.637 | Lowest Loss:  5.153\n",
      "Reconstruction Loss:  tensor(4.6614, device='cuda:0', grad_fn=<MseLossBackward0>)\n",
      "Epoch:  1 | Average loss:  6.194 | Lowest Loss:  4.445\n",
      "Reconstruction Loss:  tensor(4.2954, device='cuda:0', grad_fn=<MseLossBackward0>)\n",
      "Epoch:  2 | Average loss:  5.095 | Lowest Loss:  3.895\n",
      "Reconstruction Loss:  tensor(4.3838, device='cuda:0', grad_fn=<MseLossBackward0>)\n",
      "Epoch:  3 | Average loss:  4.706 | Lowest Loss:  3.441\n",
      "Reconstruction Loss:  tensor(3.7534, device='cuda:0', grad_fn=<MseLossBackward0>)\n",
      "Epoch:  4 | Average loss:  4.515 | Lowest Loss:  3.439\n",
      "Reconstruction Loss:  tensor(3.8531, device='cuda:0', grad_fn=<MseLossBackward0>)\n",
      "Epoch:  5 | Average loss:  4.411 | Lowest Loss:  3.348\n",
      "Reconstruction Loss:  tensor(3.7033, device='cuda:0', grad_fn=<MseLossBackward0>)\n",
      "Epoch:  6 | Average loss:  4.294 | Lowest Loss:  2.958\n",
      "Reconstruction Loss:  tensor(3.5888, device='cuda:0', grad_fn=<MseLossBackward0>)\n",
      "Epoch:  7 | Average loss:  4.158 | Lowest Loss:  3.144\n",
      "Reconstruction Loss:  tensor(3.6686, device='cuda:0', grad_fn=<MseLossBackward0>)\n",
      "Epoch:  8 | Average loss:  4.024 | Lowest Loss:  3.104\n",
      "Reconstruction Loss:  tensor(3.5368, device='cuda:0', grad_fn=<MseLossBackward0>)\n",
      "Epoch:  9 | Average loss:  3.904 | Lowest Loss:  3.025\n"
     ]
    }
   ],
   "source": [
    "vaeModel = variationalAE().to(device)\n",
    "modelParameters = list(vaeModel.parameters())\n",
    "criterion = nn.MSELoss()\n",
    "optimizer = optim.SGD(modelParameters, lr = (1e-3), momentum = 0.7)\n",
    "\n",
    "epochLoss = []\n",
    "epochList = np.arange(0, 100, dtype = int)\n",
    "\n",
    "encoderOutputs = []\n",
    "decoderOutputs = []\n",
    "for epoch in range(100):\n",
    "  losses = []\n",
    "  for batchIndex, batchImage in enumerate(trainLoader):\n",
    "    batchImage = batchImage.to(device)\n",
    "    batchImage = batchImage.unsqueeze(1)\n",
    "    obtainedMean, obtainedLogVariance, reconstructedImage  = vaeModel(batchImage)\n",
    "    reconstructionLoss = criterion(reconstructedImage, batchImage)\n",
    "    loss = lossFunction(reconstructionLoss, obtainedMean, obtainedLogVariance)\n",
    "    optimizer.zero_grad()\n",
    "    loss.backward()\n",
    "    optimizer.step()\n",
    "    losses.append(loss.cpu().detach().numpy())\n",
    "  print(\"Reconstruction Loss: \", reconstructionLoss)\n",
    "  print(\"Epoch: \",epoch,\"| Average loss: \",np.round(np.average(losses), 3),\"| Lowest Loss: \",np.round(np.amin(losses), 3))\n",
    "  epochLoss.append(np.round(np.amin(losses), 3))\n",
    "  torch.save(vaeModel.state_dict(), \"vae.pth\")"
   ]
  },
  {
   "cell_type": "markdown",
   "metadata": {},
   "source": [
    "<h2>Plotting graph of loss versus epochs"
   ]
  },
  {
   "cell_type": "code",
   "execution_count": 9,
   "metadata": {},
   "outputs": [
    {
     "data": {
      "image/png": "[encoded data removed]",
      "text/plain": [
       "<Figure size 640x480 with 1 Axes>"
      ]
     },
     "metadata": {},
     "output_type": "display_data"
    }
   ],
   "source": [
    "plt.plot(epochList, epochLoss, color = 'blue')\n",
    "plt.xlabel('Epoch')\n",
    "plt.ylabel('Lowest loss per epoch')\n",
    "plt.show()"
   ]
  },
  {
   "cell_type": "markdown",
   "metadata": {},
   "source": [
    "<h2>Evaluating reconstruction capabilities on Test Set"
   ]
  },
  {
   "cell_type": "code",
   "execution_count": 10,
   "metadata": {},
   "outputs": [
    {
     "data": {
      "image/png": "[encoded data removed]",
      "text/plain": [
       "<Figure size 640x480 with 6 Axes>"
      ]
     },
     "metadata": {},
     "output_type": "display_data"
    }
   ],
   "source": [
    "numSamples = 3\n",
    "randomIndices = random.sample(range(0, len(xTest)), numSamples)\n",
    "testSamples = list(np.array(xTestFlat)[randomIndices])\n",
    "latentOutputs = []\n",
    "reconstructedOutputs = []\n",
    "displayList = []\n",
    "\n",
    "vaeModel.eval()\n",
    "for testImage in testSamples:\n",
    "    Mean, Variance, decodedOutput = vaeModel(torch.FloatTensor(np.reshape(testImage, (-1,flattenDim))).unsqueeze(0).to(device))\n",
    "    reconstructedOutputs.append(decodedOutput.cpu().detach().numpy().reshape(28, 28))\n",
    "displayList = testSamples + reconstructedOutputs\n",
    "displayImages(displayList, 2, 3)"
   ]
  }
 ],
 "metadata": {
  "kernelspec": {
   "display_name": "Python 3.10.4 64-bit",
   "language": "python",
   "name": "python3"
  },
  "language_info": {
   "codemirror_mode": {
    "name": "ipython",
    "version": 3
   },
   "file_extension": ".py",
   "mimetype": "text/x-python",
   "name": "python",
   "nbconvert_exporter": "python",
   "pygments_lexer": "ipython3",
   "version": "3.10.4"
  },
  "orig_nbformat": 4,
  "vscode": {
   "interpreter": {
    "hash": "dce92b59414b6f3d3d2d8fa4cc50c6a1297a8b6cc151ffcfeb96fc9a7b723860"
   }
  }
 },
 "nbformat": 4,
 "nbformat_minor": 2
}
