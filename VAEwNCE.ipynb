{
 "cells": [
  {
   "cell_type": "markdown",
   "metadata": {},
   "source": [
    "<h1>Autoencoders"
   ]
  },
  {
   "cell_type": "markdown",
   "metadata": {},
   "source": [
    "<h2>Importing required libraries"
   ]
  },
  {
   "cell_type": "code",
   "execution_count": 1,
   "metadata": {},
   "outputs": [],
   "source": [
    "import torch\n",
    "import random\n",
    "import numpy as np\n",
    "import torch.nn as nn\n",
    "import tensorflow as tf\n",
    "import torch.distributions\n",
    "import torch.optim as optim\n",
    "from torchvision import models\n",
    "import torch.nn.functional as F\n",
    "import matplotlib.pyplot as plt\n",
    "from torch.utils.data import Dataset\n",
    "from torch.utils.data import DataLoader\n",
    "from keras.datasets import fashion_mnist"
   ]
  },
  {
   "cell_type": "markdown",
   "metadata": {},
   "source": [
    "<h2>Initializing device details and Importing the dataset"
   ]
  },
  {
   "cell_type": "code",
   "execution_count": 2,
   "metadata": {},
   "outputs": [],
   "source": [
    "device = torch.device(\"cuda:0\" if torch.cuda.is_available() else \"cpu\")\n",
    "torch.cuda.empty_cache()\n",
    "(xTrain, yTrain), (xTest, yTest) = fashion_mnist.load_data()"
   ]
  },
  {
   "cell_type": "markdown",
   "metadata": {},
   "source": [
    "<h2>Displaying sample images from dataset"
   ]
  },
  {
   "cell_type": "code",
   "execution_count": 3,
   "metadata": {},
   "outputs": [
    {
     "data": {
      "image/png": "[encoded data removed]",
      "text/plain": [
       "<Figure size 640x480 with 8 Axes>"
      ]
     },
     "metadata": {},
     "output_type": "display_data"
    }
   ],
   "source": [
    "def displayImages(imageList, rows, columns):\n",
    "    fig, grid = plt.subplots(rows,columns) \n",
    "    for i in range(rows):\n",
    "        for j in range(columns):\n",
    "            grid[i,j].axis('off')\n",
    "            grid[i,j].imshow(np.reshape(imageList[(i-1)*rows+j], (28,28)))\n",
    "\n",
    "numSamples = 8\n",
    "randomIndices = random.sample(range(0, len(xTrain)), numSamples)\n",
    "displayImages(list(np.array(xTrain)[randomIndices]), 2, 4)"
   ]
  },
  {
   "cell_type": "markdown",
   "metadata": {},
   "source": [
    "<h2>Dataset Preprocessing"
   ]
  },
  {
   "cell_type": "code",
   "execution_count": 4,
   "metadata": {},
   "outputs": [],
   "source": [
    "length, breadth = xTrain[0].shape\n",
    "flattenDim = length * breadth\n",
    "#xTrain = torch.FloatTensor(np.round(xTrain / 27).astype(int)).to(device)\n",
    "xTrain = np.round(xTrain / 27).astype(int)\n",
    "xTest = np.round(xTest / 27).astype(int)\n",
    "xTrainFlat = torch.FloatTensor(np.reshape(xTrain, (-1,flattenDim))).to(device)\n",
    "xTestFlat = np.reshape(xTest, (-1,flattenDim)) "
   ]
  },
  {
   "cell_type": "markdown",
   "metadata": {},
   "source": [
    "<h2>Initializing TrainLoader and TestLoader functions"
   ]
  },
  {
   "cell_type": "code",
   "execution_count": 5,
   "metadata": {},
   "outputs": [],
   "source": [
    "trainLoader = DataLoader(dataset = xTrainFlat, batch_size = 32, shuffle = True)\n",
    "testLoader = DataLoader(dataset = xTestFlat, batch_size = 16, shuffle = True)"
   ]
  },
  {
   "cell_type": "markdown",
   "metadata": {},
   "source": [
    "<h2>Defining Variational AutoEncoder class"
   ]
  },
  {
   "cell_type": "code",
   "execution_count": 6,
   "metadata": {},
   "outputs": [],
   "source": [
    "latentSize = 100\n",
    "\n",
    "class variationalAE(torch.nn.Module):\n",
    "    def __init__(self):\n",
    "        super().__init__()\n",
    "        self.encoder = torch.nn.Sequential(\n",
    "            nn.Linear(784, 512),\n",
    "            nn.ReLU(),\n",
    "            nn.Linear(512, 256),\n",
    "            nn.ReLU(),\n",
    "            nn.Linear(256, 128),\n",
    "            nn.ReLU(),\n",
    "            nn.Linear(128, 64),\n",
    "            nn.ReLU(),\n",
    "            nn.Linear(64, 2 * latentSize)\n",
    "        )\n",
    "        self.decoder = nn.Sequential(\n",
    "            nn.Linear(latentSize, 2 * latentSize),\n",
    "            nn.ReLU(),\n",
    "            nn.Linear(2 * latentSize, 64),\n",
    "            nn.ReLU(),\n",
    "            nn.Linear(64, 128),\n",
    "            nn.ReLU(),\n",
    "            nn.Linear(128, 256),\n",
    "            nn.ReLU(),\n",
    "            nn.Linear(256, 512),\n",
    "            nn.ReLU(),\n",
    "            nn.Linear(512, 784)\n",
    "        )\n",
    "    def reparameterization(self, mean, logVariance):\n",
    "        standardDeviation = torch.exp(0.5 * logVariance)\n",
    "        epsilonValue = torch.randn_like(standardDeviation)\n",
    "        chosenSample = mean + (epsilonValue * standardDeviation)\n",
    "        return chosenSample\n",
    "\n",
    "    def forward(self, x):\n",
    "        encoded = self.encoder(x)\n",
    "        mean, logVariance = torch.split(encoded, latentSize, dim = 2)\n",
    "        z = self.reparameterization(mean, logVariance)\n",
    "        reconstructed = self.decoder(z)\n",
    "        return mean, logVariance, reconstructed"
   ]
  },
  {
   "cell_type": "markdown",
   "metadata": {},
   "source": [
    "<h2>Training the AutoEncoder model"
   ]
  },
  {
   "cell_type": "code",
   "execution_count": 7,
   "metadata": {},
   "outputs": [
    {
     "data": {
      "text/plain": [
       "variationalAE(\n",
       "  (encoder): Sequential(\n",
       "    (0): Linear(in_features=784, out_features=512, bias=True)\n",
       "    (1): ReLU()\n",
       "    (2): Linear(in_features=512, out_features=256, bias=True)\n",
       "    (3): ReLU()\n",
       "    (4): Linear(in_features=256, out_features=128, bias=True)\n",
       "    (5): ReLU()\n",
       "    (6): Linear(in_features=128, out_features=64, bias=True)\n",
       "    (7): ReLU()\n",
       "    (8): Linear(in_features=64, out_features=200, bias=True)\n",
       "  )\n",
       "  (decoder): Sequential(\n",
       "    (0): Linear(in_features=100, out_features=200, bias=True)\n",
       "    (1): ReLU()\n",
       "    (2): Linear(in_features=200, out_features=64, bias=True)\n",
       "    (3): ReLU()\n",
       "    (4): Linear(in_features=64, out_features=128, bias=True)\n",
       "    (5): ReLU()\n",
       "    (6): Linear(in_features=128, out_features=256, bias=True)\n",
       "    (7): ReLU()\n",
       "    (8): Linear(in_features=256, out_features=512, bias=True)\n",
       "    (9): ReLU()\n",
       "    (10): Linear(in_features=512, out_features=784, bias=True)\n",
       "  )\n",
       ")"
      ]
     },
     "execution_count": 7,
     "metadata": {},
     "output_type": "execute_result"
    }
   ],
   "source": [
    "vaeModel = variationalAE().to(device)\n",
    "vaeModel.load_state_dict(torch.load(\"vae.pth\"))\n",
    "vaeModel.eval()"
   ]
  },
  {
   "cell_type": "markdown",
   "metadata": {},
   "source": [
    "<h2>Binary Classifier"
   ]
  },
  {
   "cell_type": "code",
   "execution_count": 8,
   "metadata": {},
   "outputs": [],
   "source": [
    "class BinaryClassifier(torch.nn.Module):\n",
    "    def __init__(self):\n",
    "        super().__init__()\n",
    "        self.layer1 = nn.Linear(in_features = latentSize, out_features = 40)\n",
    "        self.layer2 = nn.Linear(in_features = 40, out_features = 30)\n",
    "        self.layer3 = nn.Linear(in_features = 30, out_features = 20)\n",
    "        self.layer4 = nn.Linear(in_features = 20, out_features = 10)\n",
    "        self.layer5 = nn.Linear(in_features = 10, out_features = 1)\n",
    "        self.activation = nn.Sigmoid()\n",
    "    \n",
    "    def forward(self, x):\n",
    "        x = self.layer1(x)\n",
    "        x = F.relu(x)\n",
    "        x = self.layer2(x)\n",
    "        x = F.relu(x)\n",
    "        x = self.layer3(x)\n",
    "        x = F.relu(x)\n",
    "        x = self.layer4(x)\n",
    "        x = F.relu(x)\n",
    "        x = self.layer5(x)\n",
    "        x = self.activation(x)\n",
    "        return x"
   ]
  },
  {
   "cell_type": "code",
   "execution_count": 9,
   "metadata": {},
   "outputs": [],
   "source": [
    "z = vaeModel.encoder(xTrainFlat)\n",
    "infMean, infLogVariance = torch.split(z, latentSize, dim = 1)\n",
    "\n",
    "qzx = vaeModel.reparameterization(infMean, infLogVariance)\n",
    "pzx = torch.randn((len(xTrain), latentSize), device = device)\n",
    "\n",
    "qzxLabel = torch.ones((len(xTrain), 1)).to(device)\n",
    "pzxLabel = torch.zeros((len(xTrain), 1)).to(device)\n",
    "\n",
    "trainLabels = torch.cat((qzxLabel, pzxLabel)).to(device)\n",
    "trainData = torch.cat((qzx, pzx)).to(device)"
   ]
  },
  {
   "cell_type": "code",
   "execution_count": 10,
   "metadata": {},
   "outputs": [],
   "source": [
    "class customDataset(Dataset):\n",
    "    def __init__(self, data, labels, transform = None):\n",
    "        self.transform = transform\n",
    "        self.data = data\n",
    "        self.labels = labels\n",
    "    \n",
    "    def __len__(self):\n",
    "        return len(self.labels)\n",
    "\n",
    "    def __getitem__(self, index):\n",
    "        image = self.data[index]\n",
    "        label = self.labels[index]\n",
    "        return image, label"
   ]
  },
  {
   "cell_type": "code",
   "execution_count": 11,
   "metadata": {},
   "outputs": [],
   "source": [
    "trainDataset = customDataset(data = trainData, labels = trainLabels)\n",
    "binaryTrainLoader = DataLoader(dataset = trainDataset, batch_size = 100, shuffle = True)"
   ]
  },
  {
   "cell_type": "code",
   "execution_count": 12,
   "metadata": {},
   "outputs": [
    {
     "name": "stdout",
     "output_type": "stream",
     "text": [
      "Epoch:  0 | Average loss:  0.69 | Lowest Loss:  0.69\n",
      "Epoch:  1 | Average loss:  0.69 | Lowest Loss:  0.69\n",
      "Epoch:  2 | Average loss:  0.69 | Lowest Loss:  0.68\n",
      "Epoch:  3 | Average loss:  0.68 | Lowest Loss:  0.63\n",
      "Epoch:  4 | Average loss:  0.63 | Lowest Loss:  0.52\n",
      "Epoch:  5 | Average loss:  0.6 | Lowest Loss:  0.48\n",
      "Epoch:  6 | Average loss:  0.59 | Lowest Loss:  0.47\n",
      "Epoch:  7 | Average loss:  0.58 | Lowest Loss:  0.45\n",
      "Epoch:  8 | Average loss:  0.58 | Lowest Loss:  0.45\n",
      "Epoch:  9 | Average loss:  0.57 | Lowest Loss:  0.42\n",
      "Epoch:  10 | Average loss:  0.57 | Lowest Loss:  0.43\n",
      "Epoch:  11 | Average loss:  0.56 | Lowest Loss:  0.42\n",
      "Epoch:  12 | Average loss:  0.56 | Lowest Loss:  0.41\n",
      "Epoch:  13 | Average loss:  0.56 | Lowest Loss:  0.43\n",
      "Epoch:  14 | Average loss:  0.56 | Lowest Loss:  0.43\n",
      "Epoch:  15 | Average loss:  0.55 | Lowest Loss:  0.42\n",
      "Epoch:  16 | Average loss:  0.55 | Lowest Loss:  0.42\n",
      "Epoch:  17 | Average loss:  0.55 | Lowest Loss:  0.42\n",
      "Epoch:  18 | Average loss:  0.55 | Lowest Loss:  0.42\n",
      "Epoch:  19 | Average loss:  0.55 | Lowest Loss:  0.41\n",
      "Epoch:  20 | Average loss:  0.55 | Lowest Loss:  0.4\n",
      "Epoch:  21 | Average loss:  0.54 | Lowest Loss:  0.41\n",
      "Epoch:  22 | Average loss:  0.54 | Lowest Loss:  0.41\n",
      "Epoch:  23 | Average loss:  0.54 | Lowest Loss:  0.4\n",
      "Epoch:  24 | Average loss:  0.54 | Lowest Loss:  0.41\n"
     ]
    }
   ],
   "source": [
    "bcModel = BinaryClassifier().to(device)\n",
    "criterion = nn.BCELoss()\n",
    "optimizer = optim.SGD(bcModel.parameters(), lr = (1e-2), momentum=0.8)\n",
    "\n",
    "lowestEpochLoss = []\n",
    "averageEpochLoss = []\n",
    "epochList = np.arange(0, 25, dtype = int)\n",
    "\n",
    "encoderOutputs = []\n",
    "decoderOutputs = []\n",
    "for epoch in range(25):\n",
    "  losses = []\n",
    "  for batchIndex, (batchImage, batchLabels) in enumerate(binaryTrainLoader):\n",
    "    batchImage = batchImage.to(device)\n",
    "    batchLabels = batchLabels.to(device)\n",
    "    predictedOutput  = bcModel(batchImage)\n",
    "    loss = criterion(predictedOutput, batchLabels)\n",
    "    optimizer.zero_grad()\n",
    "    loss.backward(retain_graph=True)\n",
    "    optimizer.step()\n",
    "    losses.append(loss.cpu().detach().numpy())\n",
    "  print(\"Epoch: \",epoch,\"| Average loss: \",np.round(np.average(losses), 2),\"| Lowest Loss: \",np.round(np.amin(losses), 2))\n",
    "  lowestEpochLoss.append(np.amin(losses))\n",
    "  averageEpochLoss.append(np.average(losses))\n",
    "  #torch.save(bcModel.state_dict(), \"bc.pth\")"
   ]
  },
  {
   "cell_type": "code",
   "execution_count": 18,
   "metadata": {},
   "outputs": [],
   "source": [
    "torch.save(bcModel.state_dict(), \"bc.pth\")"
   ]
  },
  {
   "cell_type": "code",
   "execution_count": 13,
   "metadata": {},
   "outputs": [
    {
     "data": {
      "image/png": "[encoded data removed]",
      "text/plain": [
       "<Figure size 640x480 with 1 Axes>"
      ]
     },
     "metadata": {},
     "output_type": "display_data"
    }
   ],
   "source": [
    "plt.plot(epochList, lowestEpochLoss, color = 'blue', label = 'Lowest loss')\n",
    "plt.plot(epochList, averageEpochLoss, color = 'red', label = 'Average loss')\n",
    "plt.xlabel('Epoch')\n",
    "plt.ylabel('Loss per epoch')\n",
    "plt.show()"
   ]
  },
  {
   "cell_type": "code",
   "execution_count": 21,
   "metadata": {},
   "outputs": [
    {
     "data": {
      "text/plain": [
       "0.40462368726730347"
      ]
     },
     "execution_count": 21,
     "metadata": {},
     "output_type": "execute_result"
    }
   ],
   "source": [
    "bcModel.eval()\n",
    "bcModel(torch.rand((1, latentSize), device=device)).item()"
   ]
  },
  {
   "cell_type": "code",
   "execution_count": 19,
   "metadata": {},
   "outputs": [
    {
     "data": {
      "text/plain": [
       "0.8366165161132812"
      ]
     },
     "execution_count": 19,
     "metadata": {},
     "output_type": "execute_result"
    }
   ],
   "source": [
    "bcModel.eval()\n",
    "randomIndices = random.sample(range(0, len(xTest)), 1)\n",
    "bcModel(trainData[randomIndices]).item()"
   ]
  },
  {
   "cell_type": "code",
   "execution_count": 105,
   "metadata": {},
   "outputs": [],
   "source": [
    "z0 = torch.randn(latentSize, device = device, requires_grad = True)\n",
    "stepSize = 1e-2\n",
    "normalMean = torch.tensor([0.0], device = device)\n",
    "normalSTD = torch.tensor([1.0], device = device)\n",
    "for timeStamp in range(1000):\n",
    "    dZ = bcModel(z0)\n",
    "    rZ = dZ / (1 - dZ)\n",
    "    energyFunction = (-torch.log(rZ) - torch.distributions.Normal(normalMean, normalSTD).log_prob(z0).to(device))\n",
    "    z0 = z0 - (0.5 * stepSize * torch.autograd.grad(energyFunction.mean(), z0)[0]) + (torch.sqrt(torch.tensor(stepSize)) * torch.randn((1,1), device = device))  "
   ]
  },
  {
   "cell_type": "code",
   "execution_count": 106,
   "metadata": {},
   "outputs": [
    {
     "data": {
      "text/plain": [
       "<matplotlib.image.AxesImage at 0x2625410c2e0>"
      ]
     },
     "execution_count": 106,
     "metadata": {},
     "output_type": "execute_result"
    },
    {
     "data": {
      "image/png": "[encoded data removed]",
      "text/plain": [
       "<Figure size 640x480 with 1 Axes>"
      ]
     },
     "metadata": {},
     "output_type": "display_data"
    }
   ],
   "source": [
    "vaeModel.eval()\n",
    "output = vaeModel.decoder(z0)\n",
    "plt.imshow(output.cpu().detach().numpy().reshape(28,28))"
   ]
  }
 ],
 "metadata": {
  "kernelspec": {
   "display_name": "Python 3.10.4 64-bit",
   "language": "python",
   "name": "python3"
  },
  "language_info": {
   "codemirror_mode": {
    "name": "ipython",
    "version": 3
   },
   "file_extension": ".py",
   "mimetype": "text/x-python",
   "name": "python",
   "nbconvert_exporter": "python",
   "pygments_lexer": "ipython3",
   "version": "3.10.4"
  },
  "orig_nbformat": 4,
  "vscode": {
   "interpreter": {
    "hash": "dce92b59414b6f3d3d2d8fa4cc50c6a1297a8b6cc151ffcfeb96fc9a7b723860"
   }
  }
 },
 "nbformat": 4,
 "nbformat_minor": 2
}
